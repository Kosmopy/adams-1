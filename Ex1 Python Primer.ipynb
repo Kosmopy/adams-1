{
 "cells": [
  {
   "cell_type": "markdown",
   "metadata": {},
   "source": [
    "# Python primer #1: outline\n",
    "\n",
    "1. Jupyter notebook\n",
    "2. Python basics\n",
    "3. Packages and installation\n",
    "3. numpy\n",
    "4. pandas\n",
    "5. loading data\n",
    "6. matpotlib\n"
   ]
  },
  {
   "cell_type": "markdown",
   "metadata": {
    "slideshow": {
     "slide_type": "slide"
    }
   },
   "source": [
    "## Working with a Jupyter notebook\n",
    "### Managing cells\n",
    "Jupyter has two modes. When the cell marker is blue, you can select cells with the keyboard arrows and handle them by creating new cells, moving, copying or deleting them. When you press Enter while selecting a cell, you jump into editing mode and can change the content of a cell, e.g. by writing code.\n",
    "\n",
    "The types of actions you can perform are listed under Help > Keyboard shortcuts \n",
    "\n",
    "- New cells are inserted with *a* (above) or *b* (below).\n",
    "- Cells can be *c* copied, *x* cut and *v* pasted\n",
    "- Cells are deleted by pressing *d* two times.\n",
    "- To run a cell and select the next cell: Shift + Enter\n",
    "- While typing, use Tab to finish the object name for you and Shift + Tab to see the documentation\n",
    "\n",
    "It is worth remembering the shortcuts to work efficiently. Also check out notebook *magic* commands starting with % when things get more interesting."
   ]
  },
  {
   "cell_type": "markdown",
   "metadata": {
    "slideshow": {
     "slide_type": "slide"
    }
   },
   "source": [
    "### Cell types ###\n",
    "A Jupyter notebook usually consists of text describing the context of the problem and describing the code as well as the actual code. Text is written in markup cells, which allow nice formatting similar to LaTeX, while code should be written in code cells. There, the code can be run interactively and the output will be visualized in the notebook.\n",
    "\n",
    "You can change the cell content with 'm' for markup and 'y' for code. Remember that you need to be in selection (or command) mode. "
   ]
  },
  {
   "cell_type": "markdown",
   "metadata": {},
   "source": [
    "##functionality demo"
   ]
  },
  {
   "cell_type": "markdown",
   "metadata": {},
   "source": [
    "## Python  ## "
   ]
  },
  {
   "cell_type": "markdown",
   "metadata": {},
   "source": [
    "### Object types\n",
    "\n",
    "1. _Numbers_: 1234, 3.1415, 999L, 3+4j, Decimal\n",
    "\n",
    "2. _Strings_: 'ourstring', \"text or comment\"\n",
    "\n",
    "3. _Lists_: [1, [2, 'three'], 4]\n",
    "\n",
    "4. _Dictionaries_: {'employment': 'fulltime', 'gender': 'male'}\n",
    "\n",
    "5. _Tuples_: (1,'spam', 4, 'U')\n",
    "\n",
    "6. _Files_: myfile = open('goodcode', 'python')\n",
    "\n",
    "also booleans, functions, classes, etc\n"
   ]
  },
  {
   "cell_type": "markdown",
   "metadata": {
    "slideshow": {
     "slide_type": "skip"
    }
   },
   "source": [
    "## Lists and assignment rules\n",
    "Unlike R, Python is primarily a programming language, so its standard object classes behave a little different. When indexing lists and similar objects, always remember that python starts counting indices at 0. When slicing x[start:end], the end value is *not* included in the output. You can index from the end using the minus like x[0:-2].\n",
    "\n",
    "The biggest difference is that many objects can be modified in-place, i.e. without reassignment common in R like x <- x[1:2]. This increases speed and memory efficiency, but be careful when running code multiple times or in a different order. Also be aware that objects are not copied when reassigned, but instead linked to the original content, which may change. If you'd like to copy a list, use a complete index [:].\n",
    "\n"
   ]
  },
  {
   "cell_type": "code",
   "execution_count": 1,
   "metadata": {
    "pycharm": {
     "is_executing": false
    },
    "slideshow": {
     "slide_type": "skip"
    }
   },
   "outputs": [
    {
     "name": "stdout",
     "output_type": "stream",
     "text": [
      "[1, 2, 3, 4]\n",
      "[2, 3]\n"
     ]
    }
   ],
   "source": [
    "# Lists\n",
    "x = [1, 2, 3, 4]\n",
    "print(x)\n",
    "\n",
    "print(x[1:3])"
   ]
  },
  {
   "cell_type": "code",
   "execution_count": 2,
   "metadata": {
    "pycharm": {
     "is_executing": false
    },
    "slideshow": {
     "slide_type": "skip"
    }
   },
   "outputs": [
    {
     "name": "stdout",
     "output_type": "stream",
     "text": [
      "[1, 2, 4]\n"
     ]
    }
   ],
   "source": [
    "# Delete an element of x in-place\n",
    "# Also note that you can index from the end by using -\n",
    "del x[-2]\n",
    "print(x)"
   ]
  },
  {
   "cell_type": "code",
   "execution_count": 3,
   "metadata": {
    "pycharm": {
     "is_executing": false
    },
    "slideshow": {
     "slide_type": "skip"
    }
   },
   "outputs": [
    {
     "name": "stdout",
     "output_type": "stream",
     "text": [
      "[1, 2, 4]\n",
      "[1, 2, 4]\n"
     ]
    }
   ],
   "source": [
    "y = x\n",
    "z = x[:]\n",
    "print(y)\n",
    "print(z)"
   ]
  },
  {
   "cell_type": "code",
   "execution_count": 4,
   "metadata": {
    "pycharm": {
     "is_executing": false
    },
    "slideshow": {
     "slide_type": "skip"
    }
   },
   "outputs": [
    {
     "data": {
      "text/plain": [
       "[2, 4]"
      ]
     },
     "execution_count": 4,
     "metadata": {},
     "output_type": "execute_result"
    }
   ],
   "source": [
    "del y[0]\n",
    "y"
   ]
  },
  {
   "cell_type": "code",
   "execution_count": 5,
   "metadata": {
    "pycharm": {
     "is_executing": false
    },
    "slideshow": {
     "slide_type": "skip"
    }
   },
   "outputs": [
    {
     "name": "stdout",
     "output_type": "stream",
     "text": [
      "[2, 4]\n",
      "[1, 2, 4]\n"
     ]
    }
   ],
   "source": [
    "# See that x has changed when we deleted y[0]\n",
    "print(x); print(z)"
   ]
  },
  {
   "cell_type": "markdown",
   "metadata": {},
   "source": [
    "### Methods "
   ]
  },
  {
   "cell_type": "markdown",
   "metadata": {},
   "source": [
    "Python is an object-oriented programming language, so in addition to functions, it has *methods*. Methods are associated with objects. That means they are called for a specific object instead of passing the object as an explicit argument and have access to information saved within the object.\n",
    "\n",
    "Objects, in turn, are an instantiation of a class. Think of classes as templates, which define all the data and behavior (i.e., methods) of an entity. For example, a class _student_ could provide a programmer with means to store data such as _name_, _email_, and _student id_. In addition, the class could define some behavior that students exhibit, such as _enrollForCourse_, _registerForExam_, etc. The way to implement behavior is to write a corresponding method. Using the __class__ _student_, that is our template, we could then create __objects__ that represent individual students, such as a student with _name_ Eve and _student id_ 12345, and a different student with _name_ Paul and _student id_ 67890. "
   ]
  },
  {
   "cell_type": "code",
   "execution_count": 6,
   "metadata": {
    "pycharm": {
     "is_executing": false
    },
    "slideshow": {
     "slide_type": "skip"
    }
   },
   "outputs": [
    {
     "name": "stdout",
     "output_type": "stream",
     "text": [
      "<class 'str'>\n"
     ]
    },
    {
     "data": {
      "text/plain": [
       "'HELLO WORLD'"
      ]
     },
     "execution_count": 6,
     "metadata": {},
     "output_type": "execute_result"
    }
   ],
   "source": [
    "# A method for class string\n",
    "a = \"hello world\"\n",
    "print(type(a))\n",
    "\n",
    "a.upper()"
   ]
  },
  {
   "cell_type": "code",
   "execution_count": 7,
   "metadata": {
    "pycharm": {
     "is_executing": false
    }
   },
   "outputs": [
    {
     "data": {
      "text/plain": [
       "['hello', 'world']"
      ]
     },
     "execution_count": 7,
     "metadata": {},
     "output_type": "execute_result"
    }
   ],
   "source": [
    "a.split()"
   ]
  },
  {
   "cell_type": "code",
   "execution_count": 8,
   "metadata": {
    "pycharm": {
     "is_executing": false
    },
    "slideshow": {
     "slide_type": "skip"
    }
   },
   "outputs": [
    {
     "data": {
      "text/plain": [
       "['__add__',\n",
       " '__class__',\n",
       " '__contains__',\n",
       " '__delattr__',\n",
       " '__dir__',\n",
       " '__doc__',\n",
       " '__eq__',\n",
       " '__format__',\n",
       " '__ge__',\n",
       " '__getattribute__',\n",
       " '__getitem__',\n",
       " '__getnewargs__',\n",
       " '__gt__',\n",
       " '__hash__',\n",
       " '__init__',\n",
       " '__init_subclass__',\n",
       " '__iter__',\n",
       " '__le__',\n",
       " '__len__',\n",
       " '__lt__',\n",
       " '__mod__',\n",
       " '__mul__',\n",
       " '__ne__',\n",
       " '__new__',\n",
       " '__reduce__',\n",
       " '__reduce_ex__',\n",
       " '__repr__',\n",
       " '__rmod__',\n",
       " '__rmul__',\n",
       " '__setattr__',\n",
       " '__sizeof__',\n",
       " '__str__',\n",
       " '__subclasshook__',\n",
       " 'capitalize',\n",
       " 'casefold',\n",
       " 'center',\n",
       " 'count',\n",
       " 'encode',\n",
       " 'endswith',\n",
       " 'expandtabs',\n",
       " 'find',\n",
       " 'format',\n",
       " 'format_map',\n",
       " 'index',\n",
       " 'isalnum',\n",
       " 'isalpha',\n",
       " 'isascii',\n",
       " 'isdecimal',\n",
       " 'isdigit',\n",
       " 'isidentifier',\n",
       " 'islower',\n",
       " 'isnumeric',\n",
       " 'isprintable',\n",
       " 'isspace',\n",
       " 'istitle',\n",
       " 'isupper',\n",
       " 'join',\n",
       " 'ljust',\n",
       " 'lower',\n",
       " 'lstrip',\n",
       " 'maketrans',\n",
       " 'partition',\n",
       " 'replace',\n",
       " 'rfind',\n",
       " 'rindex',\n",
       " 'rjust',\n",
       " 'rpartition',\n",
       " 'rsplit',\n",
       " 'rstrip',\n",
       " 'split',\n",
       " 'splitlines',\n",
       " 'startswith',\n",
       " 'strip',\n",
       " 'swapcase',\n",
       " 'title',\n",
       " 'translate',\n",
       " 'upper',\n",
       " 'zfill']"
      ]
     },
     "execution_count": 8,
     "metadata": {},
     "output_type": "execute_result"
    }
   ],
   "source": [
    "# Find all methods for an object\n",
    "dir(a)"
   ]
  },
  {
   "cell_type": "code",
   "execution_count": 9,
   "metadata": {
    "pycharm": {
     "is_executing": false
    }
   },
   "outputs": [
    {
     "name": "stdout",
     "output_type": "stream",
     "text": [
      "[1, 2, 3, 4, 5, 100]\n"
     ]
    }
   ],
   "source": [
    "# As for lists, one of the most frequent methods would be append (when we want to add smth to the list)\n",
    "out = [1,2,3,4,5]\n",
    "out.append(100)\n",
    "print(out)"
   ]
  },
  {
   "cell_type": "markdown",
   "metadata": {},
   "source": [
    "We will look more into methods when we are talking about packages"
   ]
  },
  {
   "cell_type": "markdown",
   "metadata": {
    "slideshow": {
     "slide_type": "skip"
    }
   },
   "source": [
    "## Dictionaries\n",
    "Dictionaries are similar to named lists in R, in that they save a value filed under a name (=key). When creating object classes, python makes use of different brackets. You will need it for data management."
   ]
  },
  {
   "cell_type": "code",
   "execution_count": 10,
   "metadata": {
    "pycharm": {
     "is_executing": false
    },
    "slideshow": {
     "slide_type": "skip"
    }
   },
   "outputs": [
    {
     "name": "stdout",
     "output_type": "stream",
     "text": [
      "{'a': 2, 'b': 'cheese', 'c': [1, 2, 3]}\n",
      "[1, 2, 3]\n",
      "cheese\n"
     ]
    }
   ],
   "source": [
    "# Dictionary\n",
    "d = {\"a\":2, \"b\":\"cheese\", \"c\":[1,2,3]}\n",
    "print(d)\n",
    "print(d[\"c\"])\n",
    "print(d[\"b\"])"
   ]
  },
  {
   "cell_type": "code",
   "execution_count": 11,
   "metadata": {
    "pycharm": {
     "is_executing": false
    }
   },
   "outputs": [
    {
     "data": {
      "text/plain": [
       "{'a': 2, 'b': 'cheese', 'c': [1, 2, 3], 3: 'NEW'}"
      ]
     },
     "execution_count": 11,
     "metadata": {},
     "output_type": "execute_result"
    }
   ],
   "source": [
    "d[3] = 'NEW'\n",
    "d"
   ]
  },
  {
   "cell_type": "markdown",
   "metadata": {},
   "source": [
    "Mind the difference!"
   ]
  },
  {
   "cell_type": "markdown",
   "metadata": {},
   "source": [
    "You can get the keys, items or both (as a list of tuples) at any time from the dictionary. Note that the 'functions' are methods that are part of each dictionary, so we use d.keys() instead of keys(d). We will talk more about the difference later."
   ]
  },
  {
   "cell_type": "code",
   "execution_count": 12,
   "metadata": {
    "pycharm": {
     "is_executing": false
    }
   },
   "outputs": [
    {
     "name": "stdout",
     "output_type": "stream",
     "text": [
      "dict_keys(['a', 'b', 'c', 3])\n",
      "dict_values([2, 'cheese', [1, 2, 3], 'NEW'])\n",
      "dict_items([('a', 2), ('b', 'cheese'), ('c', [1, 2, 3]), (3, 'NEW')])\n"
     ]
    }
   ],
   "source": [
    "print(d.keys())\n",
    "print(d.values())\n",
    "print(d.items())"
   ]
  },
  {
   "cell_type": "markdown",
   "metadata": {},
   "source": [
    "## Conditions and Loops\n",
    "Conditional structures are very important in order to create efficient programms. The logic resembles R, however, there is a bunch of notions you should be aware of. For example, __indentation__ (4 spaces per indentation level). Unlike R, Python is sensitive to it."
   ]
  },
  {
   "cell_type": "code",
   "execution_count": 13,
   "metadata": {
    "pycharm": {
     "is_executing": false
    }
   },
   "outputs": [
    {
     "name": "stdout",
     "output_type": "stream",
     "text": [
      "Mind the dents!\n"
     ]
    }
   ],
   "source": [
    "language=\"Python\"\n",
    "if language == 'Python':\n",
    " print('Mind the dents!')\n",
    "else:\n",
    " print(\"Ah, do whatever you want\")\n",
    "#just a space will also work in most cases, however, the Python community has developed a Style Guide for Python Code (PEP8) where the agreement is on 4 spaces"
   ]
  },
  {
   "cell_type": "markdown",
   "metadata": {},
   "source": [
    "Sometimes we need a certain logical flow to be executed, that is where _else_ and _elif_ would be useful:"
   ]
  },
  {
   "cell_type": "code",
   "execution_count": 14,
   "metadata": {
    "pycharm": {
     "is_executing": false
    }
   },
   "outputs": [
    {
     "name": "stdout",
     "output_type": "stream",
     "text": [
      "middle\n"
     ]
    }
   ],
   "source": [
    "if 1 == 2:\n",
    "    print('first')\n",
    "elif 3 == 3:\n",
    "    print('middle')\n",
    "else:\n",
    "    print('Last')"
   ]
  },
  {
   "cell_type": "markdown",
   "metadata": {},
   "source": [
    "Let's try to apply a certain action to every component of a list with a use of looping command __for__:"
   ]
  },
  {
   "cell_type": "code",
   "execution_count": 15,
   "metadata": {
    "pycharm": {
     "is_executing": false
    }
   },
   "outputs": [
    {
     "name": "stdout",
     "output_type": "stream",
     "text": [
      "5\n",
      "8\n",
      "9\n",
      "7\n"
     ]
    }
   ],
   "source": [
    "ourstring=[5,8,9,7]\n",
    "for thingy in ourstring:\n",
    "    print(thingy)\n",
    "#You won't be able to do much with the list - that is why we will need Numpy or a function"
   ]
  },
  {
   "cell_type": "code",
   "execution_count": 16,
   "metadata": {
    "pycharm": {
     "is_executing": false
    }
   },
   "outputs": [
    {
     "name": "stdout",
     "output_type": "stream",
     "text": [
      "10\n",
      "16\n",
      "18\n",
      "14\n"
     ]
    }
   ],
   "source": [
    "#Some other actions are also possible\n",
    "for dingy in ourstring:\n",
    "    print(dingy+dingy)"
   ]
  },
  {
   "cell_type": "markdown",
   "metadata": {},
   "source": [
    "__While__ and __for__ are other examples of looping command:"
   ]
  },
  {
   "cell_type": "code",
   "execution_count": 17,
   "metadata": {
    "pycharm": {
     "is_executing": false
    }
   },
   "outputs": [
    {
     "name": "stdout",
     "output_type": "stream",
     "text": [
      "i is: -1\n",
      "i is: 0\n",
      "i is: 1\n",
      "i is: 2\n",
      "i is: 3\n",
      "i is: 4\n",
      "i is: 5\n",
      "i is: 6\n",
      "i is: 7\n"
     ]
    }
   ],
   "source": [
    "j = -1\n",
    "while j < 8:\n",
    "    print('i is: {}'.format(j))\n",
    "    j = j+1"
   ]
  },
  {
   "cell_type": "code",
   "execution_count": 18,
   "metadata": {
    "pycharm": {
     "is_executing": false
    }
   },
   "outputs": [
    {
     "name": "stdout",
     "output_type": "stream",
     "text": [
      "0\n",
      "1\n",
      "2\n",
      "3\n",
      "4\n",
      "5\n",
      "6\n"
     ]
    }
   ],
   "source": [
    "for z in range(7):\n",
    "    print(z)"
   ]
  },
  {
   "cell_type": "markdown",
   "metadata": {},
   "source": [
    "It is often useful to loop over several values at the same time, for example over each key and value pair in a dictionary. "
   ]
  },
  {
   "cell_type": "code",
   "execution_count": 19,
   "metadata": {
    "pycharm": {
     "is_executing": false
    }
   },
   "outputs": [
    {
     "name": "stdout",
     "output_type": "stream",
     "text": [
      "This is one of the keys: a\n",
      "And this is its value: 2\n",
      "This is one of the keys: b\n",
      "And this is its value: cheese\n",
      "This is one of the keys: c\n",
      "And this is its value: [1, 2, 3]\n",
      "This is one of the keys: 3\n",
      "And this is its value: NEW\n"
     ]
    }
   ],
   "source": [
    "for key, value in d.items():\n",
    "    print(f\"This is one of the keys: {key}\")\n",
    "    print(f\"And this is its value: {value}\")"
   ]
  },
  {
   "cell_type": "markdown",
   "metadata": {},
   "source": [
    "Very often, we can use comprehensions that return an object with the results directly."
   ]
  },
  {
   "cell_type": "code",
   "execution_count": 20,
   "metadata": {
    "pycharm": {
     "is_executing": false
    }
   },
   "outputs": [
    {
     "data": {
      "text/plain": [
       "[2, 10, 18, 38]"
      ]
     },
     "execution_count": 20,
     "metadata": {},
     "output_type": "execute_result"
    }
   ],
   "source": [
    "v=[1,5,9,19]\n",
    "[x*2 for x in v] #"
   ]
  },
  {
   "cell_type": "code",
   "execution_count": 21,
   "metadata": {
    "pycharm": {
     "is_executing": false
    }
   },
   "outputs": [
    {
     "data": {
      "text/plain": [
       "dict_items([('a', 2), ('b', 'cheese'), ('c', [1, 2, 3]), (3, 'NEW')])"
      ]
     },
     "execution_count": 21,
     "metadata": {},
     "output_type": "execute_result"
    }
   ],
   "source": [
    "d.items()"
   ]
  },
  {
   "cell_type": "code",
   "execution_count": 22,
   "metadata": {
    "pycharm": {
     "is_executing": false
    }
   },
   "outputs": [
    {
     "data": {
      "text/plain": [
       "{'a': False, 'b': True, 'c': False, 3: False}"
      ]
     },
     "execution_count": 22,
     "metadata": {},
     "output_type": "execute_result"
    }
   ],
   "source": [
    "{key:value==\"cheese\" for key,value in d.items()}"
   ]
  },
  {
   "cell_type": "markdown",
   "metadata": {
    "slideshow": {
     "slide_type": "skip"
    }
   },
   "source": [
    "### Functions\n",
    "Functions work as in R. You create new function by *defining* them. You see that much of structural programming is indicated by the structure of the code, i.e. a tab or four spaces.\n"
   ]
  },
  {
   "cell_type": "code",
   "execution_count": 23,
   "metadata": {
    "pycharm": {
     "is_executing": false
    }
   },
   "outputs": [
    {
     "ename": "SyntaxError",
     "evalue": "invalid syntax (<ipython-input-23-b66bd38b77eb>, line 1)",
     "output_type": "error",
     "traceback": [
      "\u001b[1;36m  File \u001b[1;32m\"<ipython-input-23-b66bd38b77eb>\"\u001b[1;36m, line \u001b[1;32m1\u001b[0m\n\u001b[1;33m    def ourFunction (arg1, arg2, arg3 ...):\u001b[0m\n\u001b[1;37m                                        ^\u001b[0m\n\u001b[1;31mSyntaxError\u001b[0m\u001b[1;31m:\u001b[0m invalid syntax\n"
     ]
    }
   ],
   "source": [
    "def ourFunction (arg1, arg2, arg3 ...):\n",
    "    program statement1\n",
    "    program statement3\n",
    "    program statement3\n",
    "    ....\n",
    "    return;"
   ]
  },
  {
   "cell_type": "code",
   "execution_count": null,
   "metadata": {
    "pycharm": {
     "is_executing": false
    }
   },
   "outputs": [],
   "source": [
    "def happyBirthdayAlisa(): #program does nothing as written\n",
    "    print(\"Happy Birthday to you!\")\n",
    "    print(\"Happy Birthday to you!\")\n",
    "    print(\"Happy Birthday, dear Alisa.\")\n",
    "    print(\"Happy Birthday to you!\")"
   ]
  },
  {
   "cell_type": "code",
   "execution_count": null,
   "metadata": {
    "pycharm": {
     "is_executing": false
    }
   },
   "outputs": [],
   "source": [
    "happyBirthdayAlisa # what happened thata"
   ]
  },
  {
   "cell_type": "code",
   "execution_count": null,
   "metadata": {
    "pycharm": {
     "is_executing": false
    }
   },
   "outputs": [],
   "source": [
    "happyBirthdayAlisa()"
   ]
  },
  {
   "cell_type": "code",
   "execution_count": null,
   "metadata": {
    "pycharm": {
     "is_executing": false
    }
   },
   "outputs": [],
   "source": [
    "def happyBirthday(person):\n",
    "    print(\"Happy Birthday to you!\")\n",
    "    print(\"Happy Birthday to you!\")\n",
    "    print(\"Happy Birthday, dear \" + person + \".\")\n",
    "    print(\"Happy Birthday to you!\")\n",
    "happyBirthday(\"Christian\")"
   ]
  },
  {
   "cell_type": "code",
   "execution_count": null,
   "metadata": {
    "pycharm": {
     "is_executing": false
    }
   },
   "outputs": [],
   "source": [
    "def multpl(x, y):\n",
    "    return x ** y\n",
    "\n",
    "multpl(5,3)"
   ]
  },
  {
   "cell_type": "code",
   "execution_count": null,
   "metadata": {
    "pycharm": {
     "is_executing": false
    }
   },
   "outputs": [],
   "source": [
    "# In simple cases like the one above we can use an anonymous function like the ones we know from R:\n",
    "\n",
    "r = lambda x, y: x * y\n",
    "r(120, 5) "
   ]
  },
  {
   "cell_type": "code",
   "execution_count": null,
   "metadata": {
    "pycharm": {
     "is_executing": false
    },
    "slideshow": {
     "slide_type": "skip"
    }
   },
   "outputs": [],
   "source": [
    "# Let's look more into the structure\n",
    "def example_function(x, y = 2):\n",
    "    x += y # This is short for add and reassign x = x + y\n",
    "    return x"
   ]
  },
  {
   "cell_type": "code",
   "execution_count": null,
   "metadata": {
    "pycharm": {
     "is_executing": false
    },
    "slideshow": {
     "slide_type": "skip"
    }
   },
   "outputs": [],
   "source": [
    "example_function(1)"
   ]
  },
  {
   "cell_type": "code",
   "execution_count": null,
   "metadata": {
    "pycharm": {
     "is_executing": false
    }
   },
   "outputs": [],
   "source": [
    "#You can build your whole code as execution of certain functions\n",
    "def main():\n",
    "    happyBirthday('Bobby')\n",
    "    happyBirthday('Anna')\n",
    "main()"
   ]
  },
  {
   "cell_type": "markdown",
   "metadata": {},
   "source": [
    "### Methods as functions attached to a class"
   ]
  },
  {
   "cell_type": "code",
   "execution_count": null,
   "metadata": {
    "pycharm": {
     "is_executing": false
    }
   },
   "outputs": [],
   "source": [
    "class person():\n",
    "    \"\"\"Class person for human interaction\"\"\"\n",
    "    def __init__(self, name, age=None):\n",
    "        \"\"\"\n",
    "        Cool, we can write help text like this starting and ending \n",
    "        with three quotations.\n",
    "        \n",
    "        name : str\n",
    "          The name of the person\n",
    "        \"\"\"\n",
    "        self.name = name\n",
    "        self.age = age\n",
    "        \n",
    "    def happy_birthday(self):\n",
    "        \"\"\"Wish a happy birtday\"\"\"\n",
    "        print(f\"Happy Birthday, dear {self.name}.\")\n",
    "        if self.age is not None:\n",
    "            self.age += 1\n",
    "            print(f\"{self.age} years, eh?\")\n",
    "        return None\n",
    "    \n",
    "    def greeting(self):\n",
    "        \"\"\"Greet the person\"\"\"\n",
    "        print(f\"Hi {self.name}! How are you doing?\")\n",
    "        return None"
   ]
  },
  {
   "cell_type": "code",
   "execution_count": null,
   "metadata": {
    "pycharm": {
     "is_executing": false
    }
   },
   "outputs": [],
   "source": [
    "example = person(\"Johannes\", 20)\n",
    "example.greeting()"
   ]
  },
  {
   "cell_type": "code",
   "execution_count": null,
   "metadata": {
    "pycharm": {
     "is_executing": false
    }
   },
   "outputs": [],
   "source": [
    "example.happy_birthday()"
   ]
  },
  {
   "cell_type": "code",
   "execution_count": null,
   "metadata": {
    "pycharm": {
     "is_executing": false
    }
   },
   "outputs": [],
   "source": [
    "example.age"
   ]
  },
  {
   "cell_type": "markdown",
   "metadata": {
    "slideshow": {
     "slide_type": "skip"
    }
   },
   "source": [
    "## Loading libraries aka packages\n",
    "Most of the functionality that we need is provided by additional libraries to the core python. You can do it in several ways:\n",
    " 1. Install manually via Anaconda Navigator (Environments)\n",
    " 2. Install via Anaconda terminal (advised at set-up stage) - recommended\n",
    " 3. Install in Jupyter notebook (!{sys.executable} -m pip install numpy __OR__ !conda install --yes --prefix {sys.prefix} numpy)\n",
    " 4. Install in Jupyter notebook via !pip install  - not recommended"
   ]
  },
  {
   "cell_type": "code",
   "execution_count": null,
   "metadata": {
    "pycharm": {
     "is_executing": false
    }
   },
   "outputs": [],
   "source": [
    "import sys\n",
    "!conda install  --prefix {sys.prefix} numpy"
   ]
  },
  {
   "cell_type": "markdown",
   "metadata": {
    "slideshow": {
     "slide_type": "skip"
    }
   },
   "source": [
    "At the beginning of the code, we need to load these packages. Python is stricter than R when it comes to namespaces. When loading a function from a package, the package is usually included in the function call. For convenience, package names are therefore often abbreviated using import [...] as [...]. It is also possible to import only specific function from a library using from 'package' import 'function'.\n",
    "\n",
    "The top 5 packages to remember for now are:\n",
    " - numpy (numeric manipulation)\n",
    " - pandas (data management)\n",
    " - matplotlib (plots)\n",
    " - seaborn (advanced plots, stat visualizations)\n",
    " - scikit-learn (standard package for machine learning in python)\n",
    " \n",
    "When loading packages, you can give them a nickname in order to save some typing time. There usually is a convention for each package's nickname, but you can choose a different one."
   ]
  },
  {
   "cell_type": "code",
   "execution_count": null,
   "metadata": {
    "collapsed": true,
    "pycharm": {
     "is_executing": false
    },
    "slideshow": {
     "slide_type": "skip"
    }
   },
   "outputs": [],
   "source": [
    "# Math functionality\n",
    "import numpy as np\n",
    "# Data frame capabilities similar to data.table in R\n",
    "import pandas as pd\n",
    "# Plotting functionality\n",
    "import matplotlib.pyplot as plt\n",
    "%matplotlib inline\n",
    "# Statistical data visualization\n",
    "import seaborn as sns\n",
    "# scikit-learn (sklearn) is *the* standard package for machine learning in python"
   ]
  },
  {
   "cell_type": "markdown",
   "metadata": {},
   "source": [
    "## Numpy\n",
    "\n",
    "Numpy will do most of the linear algebra operations on the way. We will look into:\n",
    "- arrays\n",
    "- indexing\n",
    "- operations"
   ]
  },
  {
   "cell_type": "code",
   "execution_count": null,
   "metadata": {
    "pycharm": {
     "is_executing": false
    }
   },
   "outputs": [],
   "source": [
    "import numpy as np\n",
    "\n",
    "# numpy array is one of the most basic object types, we can get it by converting a basic list"
   ]
  },
  {
   "cell_type": "code",
   "execution_count": null,
   "metadata": {
    "pycharm": {
     "is_executing": false
    }
   },
   "outputs": [],
   "source": [
    "ourlist = [1,2,3,4,5]\n",
    "ourlist"
   ]
  },
  {
   "cell_type": "markdown",
   "metadata": {},
   "source": [
    "Note how we specify the package by its nickname before calling a function from the package"
   ]
  },
  {
   "cell_type": "code",
   "execution_count": null,
   "metadata": {
    "pycharm": {
     "is_executing": false
    }
   },
   "outputs": [],
   "source": [
    "np.array(ourlist)"
   ]
  },
  {
   "cell_type": "code",
   "execution_count": null,
   "metadata": {
    "pycharm": {
     "is_executing": false
    }
   },
   "outputs": [],
   "source": [
    "#Some basic operations\n",
    "print(np.sqrt(ourlist),np.exp(ourlist))"
   ]
  },
  {
   "cell_type": "code",
   "execution_count": null,
   "metadata": {
    "pycharm": {
     "is_executing": false
    }
   },
   "outputs": [],
   "source": [
    "listoflists=[[1,2,3],[4,5,6],[7,8,9]]\n",
    "listoflists"
   ]
  },
  {
   "cell_type": "code",
   "execution_count": null,
   "metadata": {
    "pycharm": {
     "is_executing": false
    }
   },
   "outputs": [],
   "source": [
    "np.array(listoflists) # for our neural networks it will be the most basic type"
   ]
  },
  {
   "cell_type": "code",
   "execution_count": null,
   "metadata": {
    "pycharm": {
     "is_executing": false
    }
   },
   "outputs": [],
   "source": [
    "#Learning to operate them would be important\n",
    "np.arange(0,10)"
   ]
  },
  {
   "cell_type": "code",
   "execution_count": null,
   "metadata": {
    "pycharm": {
     "is_executing": false
    }
   },
   "outputs": [],
   "source": [
    "np.arange(0,12,3)"
   ]
  },
  {
   "cell_type": "code",
   "execution_count": null,
   "metadata": {
    "pycharm": {
     "is_executing": false
    }
   },
   "outputs": [],
   "source": [
    "np.ones((3,4)) # generating a matrix of 1, could be 0"
   ]
  },
  {
   "cell_type": "code",
   "execution_count": null,
   "metadata": {
    "pycharm": {
     "is_executing": false
    }
   },
   "outputs": [],
   "source": [
    "np.linspace(0,5,10) # evenly spaced numbers in specified interval"
   ]
  },
  {
   "cell_type": "code",
   "execution_count": null,
   "metadata": {
    "pycharm": {
     "is_executing": false
    }
   },
   "outputs": [],
   "source": [
    "#identity matrix\n",
    "np.eye(6)"
   ]
  },
  {
   "cell_type": "code",
   "execution_count": null,
   "metadata": {
    "pycharm": {
     "is_executing": false
    }
   },
   "outputs": [],
   "source": [
    "#Setting a value with index range (Broadcasting)\n",
    "ar = np.arange(0,20)\n",
    "ar[0:5]=0\n",
    "ar"
   ]
  },
  {
   "cell_type": "code",
   "execution_count": null,
   "metadata": {
    "pycharm": {
     "is_executing": false
    }
   },
   "outputs": [],
   "source": [
    "#Important note!\n",
    "slice_of_ar = ar[0:4]\n",
    "slice_of_ar"
   ]
  },
  {
   "cell_type": "code",
   "execution_count": null,
   "metadata": {
    "pycharm": {
     "is_executing": false
    }
   },
   "outputs": [],
   "source": [
    "slice_of_ar[:]=999\n",
    "slice_of_ar"
   ]
  },
  {
   "cell_type": "markdown",
   "metadata": {},
   "source": [
    "Note that change occurs in initial array!"
   ]
  },
  {
   "cell_type": "code",
   "execution_count": null,
   "metadata": {
    "pycharm": {
     "is_executing": false
    }
   },
   "outputs": [],
   "source": [
    "ar"
   ]
  },
  {
   "cell_type": "markdown",
   "metadata": {},
   "source": [
    "We can copy objects actively to avoid this"
   ]
  },
  {
   "cell_type": "code",
   "execution_count": null,
   "metadata": {
    "pycharm": {
     "is_executing": false
    }
   },
   "outputs": [],
   "source": [
    "slice_of_ar=ar[0:4].copy()\n",
    "slice_of_ar"
   ]
  },
  {
   "cell_type": "code",
   "execution_count": null,
   "metadata": {
    "pycharm": {
     "is_executing": false
    }
   },
   "outputs": [],
   "source": [
    "slice_of_ar[:]=0\n",
    "ar"
   ]
  },
  {
   "cell_type": "markdown",
   "metadata": {},
   "source": [
    "Indexing is similar to R and works by integer index or logical index"
   ]
  },
  {
   "cell_type": "code",
   "execution_count": null,
   "metadata": {
    "pycharm": {
     "is_executing": false
    }
   },
   "outputs": [],
   "source": [
    "x = 10\n",
    "ar[ar>x]"
   ]
  },
  {
   "cell_type": "code",
   "execution_count": null,
   "metadata": {
    "pycharm": {
     "is_executing": false
    }
   },
   "outputs": [],
   "source": [
    "#Randomization will matter a lot for us\n",
    "np.random.randn(2,4)"
   ]
  },
  {
   "cell_type": "code",
   "execution_count": null,
   "metadata": {
    "pycharm": {
     "is_executing": false
    }
   },
   "outputs": [],
   "source": [
    "#Return random integers from `low` (inclusive) to `high` (exclusive).\n",
    "np.random.randint(1,100,5) "
   ]
  },
  {
   "cell_type": "code",
   "execution_count": null,
   "metadata": {
    "pycharm": {
     "is_executing": false
    }
   },
   "outputs": [],
   "source": [
    "arr = np.arange(25)\n",
    "arr #arr.TAB will show you which methods you can use"
   ]
  },
  {
   "cell_type": "code",
   "execution_count": null,
   "metadata": {
    "pycharm": {
     "is_executing": false
    }
   },
   "outputs": [],
   "source": [
    "arr.max()"
   ]
  },
  {
   "cell_type": "code",
   "execution_count": null,
   "metadata": {
    "pycharm": {
     "is_executing": false
    }
   },
   "outputs": [],
   "source": [
    "arr.reshape(5,5) # another important method "
   ]
  },
  {
   "cell_type": "code",
   "execution_count": null,
   "metadata": {
    "pycharm": {
     "is_executing": false
    }
   },
   "outputs": [],
   "source": [
    "arr.shape"
   ]
  },
  {
   "cell_type": "code",
   "execution_count": null,
   "metadata": {
    "pycharm": {
     "is_executing": false
    }
   },
   "outputs": [],
   "source": [
    "arr.reshape(25,1)"
   ]
  },
  {
   "cell_type": "code",
   "execution_count": null,
   "metadata": {
    "pycharm": {
     "is_executing": false
    }
   },
   "outputs": [],
   "source": [
    "arr.shape # mind that the shape wasn't reassigned in-place"
   ]
  },
  {
   "cell_type": "code",
   "execution_count": null,
   "metadata": {
    "pycharm": {
     "is_executing": false
    }
   },
   "outputs": [],
   "source": [
    "arr.reshape(25,1).shape"
   ]
  },
  {
   "cell_type": "code",
   "execution_count": null,
   "metadata": {
    "pycharm": {
     "is_executing": false
    }
   },
   "outputs": [],
   "source": [
    "arr.dtype # for neural networks a specific type of float would be necessary, we will get back to  it later"
   ]
  },
  {
   "cell_type": "code",
   "execution_count": null,
   "metadata": {
    "pycharm": {
     "is_executing": false
    }
   },
   "outputs": [],
   "source": [
    "w =np.array([12,11,10])\n",
    "v = np.array([1,2,3])"
   ]
  },
  {
   "cell_type": "code",
   "execution_count": null,
   "metadata": {
    "pycharm": {
     "is_executing": false
    }
   },
   "outputs": [],
   "source": [
    "# Inner product of vectors;\n",
    "print(v.dot(w))\n",
    "print(np.dot(v, w))"
   ]
  },
  {
   "cell_type": "code",
   "execution_count": null,
   "metadata": {
    "pycharm": {
     "is_executing": false
    }
   },
   "outputs": [],
   "source": [
    "# Matrix/vector multiplication\n",
    "import numpy as np\n",
    "A = np.array([[ 5, 1 ,3], [ 1, 1 ,1], [ 1, 2 ,1]])\n",
    "b = np.array([1, 2, 3])\n",
    "print (A.dot(b))"
   ]
  },
  {
   "cell_type": "code",
   "execution_count": null,
   "metadata": {
    "pycharm": {
     "is_executing": false
    }
   },
   "outputs": [],
   "source": [
    "#Just a quick reminder about the element selection\n",
    "print(A[0,0])\n",
    "A"
   ]
  },
  {
   "cell_type": "code",
   "execution_count": null,
   "metadata": {
    "pycharm": {
     "is_executing": false
    }
   },
   "outputs": [],
   "source": [
    "#Let's say we have A x = b, we need to find x\n",
    "\n",
    "A = np.array([[2,1,-2],[3,0,1],[1,1,-1]])\n",
    "b = np.transpose(np.array([[-3,5,-2]]))\n",
    "                 \n",
    "#To solve the system we do\n",
    "x=np.linalg.solve(A,b)\n",
    "x"
   ]
  },
  {
   "cell_type": "markdown",
   "metadata": {
    "slideshow": {
     "slide_type": "skip"
    }
   },
   "source": [
    "## Pandas data frame\n",
    "The library/module **pandas** provides a class that provides similiar functionality to R's data frame or data table.\n",
    "We will start with a small and simple classificatio ndataset that you have seen before.\n",
    "\n",
    "Separate attantion should be paid to __indexes__ of pandas dataframes"
   ]
  },
  {
   "cell_type": "code",
   "execution_count": null,
   "metadata": {
    "pycharm": {
     "is_executing": false
    }
   },
   "outputs": [],
   "source": [
    "import pandas as pd\n",
    "import numpy as np\n",
    "#Let's create a pandas series (mind that's a different object class from numpy arrays!)\n",
    "s = pd.Series([41,60,np.nan, 1000])\n",
    "s"
   ]
  },
  {
   "cell_type": "code",
   "execution_count": null,
   "metadata": {
    "pycharm": {
     "is_executing": false
    }
   },
   "outputs": [],
   "source": [
    "dates = pd.date_range('20190417', periods=6)\n",
    "dates"
   ]
  },
  {
   "cell_type": "code",
   "execution_count": null,
   "metadata": {
    "pycharm": {
     "is_executing": false
    }
   },
   "outputs": [],
   "source": [
    "df = pd.DataFrame(np.random.randn(6,4), index=dates, columns=list('ABCD')) #mind the index!\n",
    "df"
   ]
  },
  {
   "cell_type": "code",
   "execution_count": null,
   "metadata": {
    "pycharm": {
     "is_executing": false
    }
   },
   "outputs": [],
   "source": [
    "df=df.sort_values(by='B')\n",
    "df "
   ]
  },
  {
   "cell_type": "code",
   "execution_count": null,
   "metadata": {
    "pycharm": {
     "is_executing": false
    }
   },
   "outputs": [],
   "source": [
    "df.sort_index(ascending=True)"
   ]
  },
  {
   "cell_type": "code",
   "execution_count": null,
   "metadata": {
    "pycharm": {
     "is_executing": false
    }
   },
   "outputs": [],
   "source": [
    "df.reset_index()#df.reset_index(drop=True)\n"
   ]
  },
  {
   "cell_type": "markdown",
   "metadata": {
    "pycharm": {
     "name": "#%% md\n"
    }
   },
   "source": [
    "For demonstration, we perfrom some tasks with a widely-used data set related to student admission at U Berkley.\n",
    "The data set is available in the module _pydatasets_ . You can install this module from PyPy using pip. \n",
    "Else, you can load a copy of the data directly from my GitHub repo. The following examples illustrate both \n",
    "approaches."
   ]
  },
  {
   "cell_type": "code",
   "execution_count": null,
   "metadata": {
    "pycharm": {
     "is_executing": false,
     "name": "#%% \n"
    },
    "slideshow": {
     "slide_type": "skip"
    }
   },
   "outputs": [],
   "source": [
    "# Provided you have pydatasets installed, the easiest way is to load the data from the module \n",
    "from pydataset import data\n",
    "adm = data(\"UCBAdmissions\")\n",
    "type(adm)"
   ]
  },
  {
   "cell_type": "code",
   "execution_count": null,
   "metadata": {
    "pycharm": {
     "is_executing": false,
     "name": "#%% \n"
    }
   },
   "outputs": [],
   "source": [
    "# Without installing pydatasets, you can load the data from the web\n",
    "#adm = pd.read_csv('https://raw.githubusercontent.com/stefanlessmann/adams/master/UCBAdmissions.csv')\n",
    "adm = pd.read_csv('')\n",
    "type(adm)"
   ]
  },
  {
   "cell_type": "markdown",
   "metadata": {
    "pycharm": {
     "name": "#%% md\n"
    }
   },
   "source": [
    "After loading the data to memory, let's perform some simple operations with the dataframe."
   ]
  },
  {
   "cell_type": "code",
   "execution_count": null,
   "metadata": {
    "pycharm": {
     "is_executing": false,
     "name": "#%%\n"
    }
   },
   "outputs": [],
   "source": [
    "adm.columns\n",
    "\n",
    "adm.head(5)"
   ]
  },
  {
   "cell_type": "code",
   "execution_count": null,
   "metadata": {
    "pycharm": {
     "is_executing": false
    }
   },
   "outputs": [],
   "source": [
    "adm=adm.drop(['Freq'], axis=1)"
   ]
  },
  {
   "cell_type": "code",
   "execution_count": null,
   "metadata": {
    "collapsed": true,
    "pycharm": {
     "is_executing": false
    },
    "slideshow": {
     "slide_type": "skip"
    }
   },
   "outputs": [],
   "source": [
    "# Separate the dataset into the predictors X and target y\n",
    "feature_cols = ['Gender', 'Dept']\n",
    "X = adm[feature_cols]\n",
    "y = adm[\"Admit\"]"
   ]
  },
  {
   "cell_type": "code",
   "execution_count": null,
   "metadata": {
    "pycharm": {
     "is_executing": false
    }
   },
   "outputs": [],
   "source": [
    "###Aternatively\n",
    "y = adm.iloc[:,0]  \n",
    "X = adm.iloc[:,1:]  "
   ]
  },
  {
   "cell_type": "code",
   "execution_count": null,
   "metadata": {
    "pycharm": {
     "is_executing": false
    }
   },
   "outputs": [],
   "source": [
    "adm[\"Admit\"].map({'Admitted': 1, 'Rejected': 0})"
   ]
  },
  {
   "cell_type": "markdown",
   "metadata": {
    "slideshow": {
     "slide_type": "skip"
    }
   },
   "source": [
    "## Summary statistics"
   ]
  },
  {
   "cell_type": "code",
   "execution_count": null,
   "metadata": {
    "pycharm": {
     "is_executing": false
    }
   },
   "outputs": [],
   "source": [
    "class_counts = adm.groupby('Admit').size()\n",
    "print(class_counts)\n",
    "print(\"\\n\")\n",
    "print('Shape of X: ', X.shape)\n",
    "print('Shape of y: ', y.shape)"
   ]
  },
  {
   "cell_type": "code",
   "execution_count": null,
   "metadata": {
    "pycharm": {
     "is_executing": false
    },
    "slideshow": {
     "slide_type": "skip"
    }
   },
   "outputs": [],
   "source": [
    "# Some descriptives\n",
    "adm['Dept'].describe()"
   ]
  },
  {
   "cell_type": "code",
   "execution_count": null,
   "metadata": {
    "pycharm": {
     "is_executing": false
    }
   },
   "outputs": [],
   "source": [
    "adm['Dept'].value_counts()"
   ]
  },
  {
   "cell_type": "code",
   "execution_count": null,
   "metadata": {
    "pycharm": {
     "is_executing": false
    }
   },
   "outputs": [],
   "source": [
    "pd.isnull(adm).any()"
   ]
  },
  {
   "cell_type": "markdown",
   "metadata": {},
   "source": [
    "## Regression dataset and variables factorization"
   ]
  },
  {
   "cell_type": "code",
   "execution_count": null,
   "metadata": {
    "pycharm": {
     "is_executing": false
    }
   },
   "outputs": [],
   "source": [
    "import pandas as pd\n",
    "df = pd.read_csv('https://raw.githubusercontent.com/fivethirtyeight/data/master/airline-safety/airline-safety.csv')\n",
    "df.head()"
   ]
  },
  {
   "cell_type": "code",
   "execution_count": null,
   "metadata": {
    "pycharm": {
     "is_executing": false
    }
   },
   "outputs": [],
   "source": [
    "df[\"fatalities_00_14\"].plot(kind=\"hist\")"
   ]
  },
  {
   "cell_type": "code",
   "execution_count": null,
   "metadata": {
    "pycharm": {
     "is_executing": false
    }
   },
   "outputs": [],
   "source": [
    "df.plot.scatter(x=\"avail_seat_km_per_week\", y='incidents_00_14')"
   ]
  },
  {
   "cell_type": "code",
   "execution_count": null,
   "metadata": {
    "pycharm": {
     "is_executing": false
    }
   },
   "outputs": [],
   "source": [
    "import matplotlib.pyplot as plt\n",
    "%matplotlib inline\n",
    "import seaborn as sns"
   ]
  },
  {
   "cell_type": "code",
   "execution_count": null,
   "metadata": {
    "pycharm": {
     "is_executing": false
    }
   },
   "outputs": [],
   "source": [
    "corrmat = df.corr()\n",
    "#f, ax = plt.subplots(figsize=(12, 9))\n",
    "sns.heatmap(corrmat, vmax=.8, square=True)"
   ]
  },
  {
   "cell_type": "code",
   "execution_count": null,
   "metadata": {
    "pycharm": {
     "is_executing": false
    }
   },
   "outputs": [],
   "source": [
    "subset=df.sort_values(by=[\"fatalities_00_14\"],ascending=False)\n",
    "\n",
    "sns.barplot(x=\"airline\", y=\"fatalities_00_14\", data=subset[:5])\n"
   ]
  },
  {
   "cell_type": "code",
   "execution_count": null,
   "metadata": {
    "pycharm": {
     "is_executing": false
    }
   },
   "outputs": [],
   "source": [
    "df['fatalities_00_14'].describe()"
   ]
  },
  {
   "cell_type": "code",
   "execution_count": null,
   "metadata": {
    "pycharm": {
     "is_executing": false
    },
    "slideshow": {
     "slide_type": "skip"
    }
   },
   "outputs": [],
   "source": [
    "# Categorization of variables\n",
    "# Defining a helper function and using apply (for practice)\n",
    "def calc_airline_category(x):\n",
    "    if x > 70: return 'neverever'\n",
    "    if x > 30: return 'betternot'\n",
    "    if x >= 0: return 'itsok'\n",
    "    \n",
    "df['MyRank'] = df.fatalities_00_14.apply(calc_airline_category)\n",
    "# Note the list of variable names inside the index brackets []\n",
    "print(df[['MyRank','airline']].head(10))"
   ]
  },
  {
   "cell_type": "code",
   "execution_count": null,
   "metadata": {
    "pycharm": {
     "is_executing": false
    },
    "slideshow": {
     "slide_type": "skip"
    }
   },
   "outputs": [],
   "source": [
    "# Use matplotlib (plt) to plot a lattice\n",
    "image, (ax1, ax2) = plt.subplots(1, 2, figsize=(16, 4))\n",
    "# Use seaborn (sns) to plot two histograms\n",
    "sns.countplot(data=df, x = 'fatalities_00_14', hue = 'MyRank', ax = ax1)\n",
    "sns.countplot(data=df, x = 'fatalities_85_99', hue = 'MyRank', ax = ax2)\n",
    "plt.show()"
   ]
  },
  {
   "cell_type": "markdown",
   "metadata": {},
   "source": [
    "Now go home and practice! :)"
   ]
  }
 ],
 "metadata": {
  "kernelspec": {
   "display_name": "PyCharm (adams)",
   "language": "python",
   "name": "pycharm-feb95198"
  },
  "language_info": {
   "codemirror_mode": {
    "name": "ipython",
    "version": 3
   },
   "file_extension": ".py",
   "mimetype": "text/x-python",
   "name": "python",
   "nbconvert_exporter": "python",
   "pygments_lexer": "ipython3",
   "version": "3.7.6"
  },
  "pycharm": {
   "stem_cell": {
    "cell_type": "raw",
    "source": [],
    "metadata": {
     "collapsed": false
    }
   }
  }
 },
 "nbformat": 4,
 "nbformat_minor": 2
}